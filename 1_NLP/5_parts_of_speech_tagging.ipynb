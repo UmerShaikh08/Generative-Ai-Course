{
 "cells": [
  {
   "cell_type": "markdown",
   "metadata": {},
   "source": [
    "**Parts Of Speech Tagging**"
   ]
  },
  {
   "cell_type": "code",
   "execution_count": null,
   "metadata": {},
   "outputs": [],
   "source": [
    "CC coordinating conjunction \n",
    "CD cardinal digit \n",
    "DT determiner \n",
    "EX existential there (like: “there is” … think of it like “there exists”) \n",
    "FW foreign word \n",
    "IN preposition/subordinating conjunction \n",
    "JJ adjective – ‘big’ \n",
    "JJR adjective, comparative – ‘bigger’ \n",
    "JJS adjective, superlative – ‘biggest’ \n",
    "LS list marker 1\n",
    "MD modal – could, will \n",
    "NN noun, singular ‘- desk’ \n",
    "NNS noun plural – ‘desks’ \n",
    "NNP proper noun, singular – ‘Harrison’ \n",
    "NNPS proper noun, plural – ‘Americans’ \n",
    "PDT predeterminer – ‘all the kids’ \n",
    "POS possessive ending parent’s \n",
    "PRP personal pronoun –  I, he, she \n",
    "PRP$ possessive pronoun – my, his, hers \n",
    "RB adverb – very, silently, \n",
    "RBR adverb, comparative – better \n",
    "RBS adverb, superlative – best \n",
    "RP particle – give up \n",
    "TO – to go ‘to’ the store. \n",
    "UH interjection – errrrrrrrm \n",
    "VB verb, base form – take \n",
    "VBD verb, past tense – took \n",
    "VBG verb, gerund/present participle – taking \n",
    "VBN verb, past participle – taken \n",
    "VBP verb, sing. present, non-3d – take \n",
    "VBZ verb, 3rd person sing. present – takes \n",
    "WDT wh-determiner – which \n",
    "WP wh-pronoun – who, what \n",
    "WP$ possessive wh-pronoun, eg- whose \n",
    "WRB wh-adverb, eg- where, when"
   ]
  },
  {
   "cell_type": "code",
   "execution_count": 54,
   "metadata": {},
   "outputs": [
    {
     "name": "stderr",
     "output_type": "stream",
     "text": [
      "[nltk_data] Downloading package punkt to\n",
      "[nltk_data]     C:\\Users\\Umers\\AppData\\Roaming\\nltk_data...\n",
      "[nltk_data]   Package punkt is already up-to-date!\n",
      "[nltk_data] Downloading package averaged_perceptron_tagger to\n",
      "[nltk_data]     C:\\Users\\Umers\\AppData\\Roaming\\nltk_data...\n",
      "[nltk_data]   Unzipping taggers\\averaged_perceptron_tagger.zip.\n",
      "[nltk_data] Downloading package averaged_perceptron_tagger_eng to\n",
      "[nltk_data]     C:\\Users\\Umers\\AppData\\Roaming\\nltk_data...\n",
      "[nltk_data]   Unzipping taggers\\averaged_perceptron_tagger_eng.zip.\n",
      "[nltk_data] Downloading package stopwords to\n",
      "[nltk_data]     C:\\Users\\Umers\\AppData\\Roaming\\nltk_data...\n",
      "[nltk_data]   Package stopwords is already up-to-date!\n"
     ]
    },
    {
     "data": {
      "text/plain": [
       "True"
      ]
     },
     "execution_count": 54,
     "metadata": {},
     "output_type": "execute_result"
    }
   ],
   "source": [
    "import nltk\n",
    "from nltk.corpus import  stopwords\n",
    " \n",
    " \n",
    "\n",
    "# Download resources for tokenization and POS tagging\n",
    "nltk.download('punkt')\n",
    "nltk.download('averaged_perceptron_tagger')\n",
    "nltk.download('averaged_perceptron_tagger_eng')\n",
    "nltk.download('stopwords')\n"
   ]
  },
  {
   "cell_type": "code",
   "execution_count": 56,
   "metadata": {},
   "outputs": [],
   "source": [
    "speech = \"\"\"Dr. Avul Pakir Jainulabdeen Abdul Kalam was a man of dreams and action. Born into a humble family in Rameswaram on October 15, 1931, he faced many struggles but never let them stop him. With hard work and determination, he became an aerospace scientist, a leader, and eventually, the 11th President of India.\n",
    "\n",
    "His contributions to India's defense and space programs were remarkable. He played a crucial role in developing India's Agni and Prithvi missiles, making the nation self-reliant in defense technology. He also contributed to ISRO’s Satellite Launch Vehicle (SLV), which placed India on the global space map.\n",
    "\n",
    "But Dr. Kalam was not just a scientist—he was a teacher at heart. He believed that youth are the future of a developed India and spent his life inspiring them. His words, \"Dream, dream, dream. Dreams transform into thoughts, and thoughts result in action,\" continue to motivate millions.\n",
    "\n",
    "Even as President (2002-2007), he remained humble and dedicated to the nation's progress. He envisioned \"India 2020\", a roadmap for transforming India into a developed country. He believed in education, innovation, and hard work as the keys to success.\"\"\""
   ]
  },
  {
   "cell_type": "code",
   "execution_count": 57,
   "metadata": {},
   "outputs": [],
   "source": [
    "sentences = nltk.sent_tokenize(speech)\n",
    " \n",
    "stemmer = nltk.stem.PorterStemmer()\n",
    " "
   ]
  },
  {
   "cell_type": "code",
   "execution_count": 58,
   "metadata": {},
   "outputs": [
    {
     "name": "stdout",
     "output_type": "stream",
     "text": [
      "[('dr.', 'NN'), ('avul', 'NN'), ('pakir', 'NN'), ('jainulabdeen', 'NN'), ('abdul', 'NN'), ('kalam', 'NN'), ('man', 'NN'), ('dream', 'NN'), ('action', 'NN'), ('.', '.')]\n",
      "[('born', 'VBN'), ('humbl', 'NN'), ('famili', 'NN'), ('rameswaram', 'NN'), ('octob', 'VBZ'), ('15', 'CD'), (',', ','), ('1931', 'CD'), (',', ','), ('face', 'NN'), ('mani', 'NN'), ('struggl', 'VBD'), ('never', 'RB'), ('let', 'VBN'), ('stop', 'NN'), ('.', '.')]\n",
      "[('hard', 'JJ'), ('work', 'NN'), ('determin', 'NN'), (',', ','), ('becam', 'NN'), ('aerospac', 'JJ'), ('scientist', 'NN'), (',', ','), ('leader', 'NN'), (',', ','), ('eventu', 'NN'), (',', ','), ('11th', 'CD'), ('presid', 'NN'), ('india', 'NN'), ('.', '.')]\n",
      "[('contribut', 'NN'), ('india', 'NN'), (\"'s\", 'POS'), ('defens', 'JJ'), ('space', 'NN'), ('program', 'NN'), ('remark', 'NN'), ('.', '.')]\n",
      "[('play', 'VB'), ('crucial', 'JJ'), ('role', 'NN'), ('develop', 'VB'), ('india', 'NN'), (\"'s\", 'POS'), ('agni', 'JJ'), ('prithvi', 'NN'), ('missil', 'NN'), (',', ','), ('make', 'VB'), ('nation', 'NN'), ('self-reli', 'JJ'), ('defens', 'NNS'), ('technolog', 'NN'), ('.', '.')]\n",
      "[('also', 'RB'), ('contribut', 'NN'), ('isro', 'JJ'), ('’', 'NNP'), ('satellit', 'NN'), ('launch', 'NN'), ('vehicl', 'NN'), ('(', '('), ('slv', 'NN'), (')', ')'), (',', ','), ('place', 'NN'), ('india', 'NN'), ('global', 'JJ'), ('space', 'NN'), ('map', 'NN'), ('.', '.')]\n",
      "[('dr.', 'NN'), ('kalam', 'NN'), ('scientist—h', 'NN'), ('teacher', 'IN'), ('heart', 'NN'), ('.', '.')]\n",
      "[('believ', 'NN'), ('youth', 'NN'), ('futur', 'NN'), ('develop', 'VB'), ('india', 'JJ'), ('spent', 'JJ'), ('life', 'NN'), ('inspir', 'NN'), ('.', '.')]\n",
      "[('word', 'NN'), (',', ','), ('``', '``'), ('dream', 'NN'), (',', ','), ('dream', 'NN'), (',', ','), ('dream', 'NN'), ('.', '.')]\n",
      "[('dream', 'NN'), ('transform', 'NN'), ('thought', 'NN'), (',', ','), ('thought', 'VBN'), ('result', 'NN'), ('action', 'NN'), (',', ','), (\"''\", \"''\"), ('continu', 'VBZ'), ('motiv', 'CD'), ('million', 'CD'), ('.', '.')]\n",
      "[('even', 'RB'), ('presid', 'NN'), ('(', '('), ('2002-2007', 'JJ'), (')', ')'), (',', ','), ('remain', 'VBP'), ('humbl', 'JJ'), ('dedic', 'JJ'), ('nation', 'NN'), (\"'s\", 'POS'), ('progress', 'NN'), ('.', '.')]\n",
      "[('envis', 'NN'), ('``', '``'), ('india', 'JJ'), ('2020', 'CD'), (\"''\", \"''\"), (',', ','), ('roadmap', 'VB'), ('transform', 'NN'), ('india', 'NN'), ('develop', 'NN'), ('countri', 'NN'), ('.', '.')]\n",
      "[('believ', 'NN'), ('educ', 'NN'), (',', ','), ('innov', 'NN'), (',', ','), ('hard', 'JJ'), ('work', 'NN'), ('key', 'JJ'), ('success', 'NN'), ('.', '.')]\n"
     ]
    }
   ],
   "source": [
    "for sentence in sentences:\n",
    "    words = nltk.word_tokenize(sentence)  \n",
    "    words = [stemmer.stem(word) for word in words if word.lower() not in set(stopwords.words(\"english\"))]  \n",
    "    pos_tagged = nltk.pos_tag(words)  \n",
    "    print(pos_tagged)"
   ]
  },
  {
   "cell_type": "code",
   "execution_count": 68,
   "metadata": {},
   "outputs": [
    {
     "name": "stdout",
     "output_type": "stream",
     "text": [
      "[('Taj', 'NN')]\n",
      "[('Mahal', 'NN')]\n",
      "[('is', 'VBZ')]\n",
      "[('a', 'DT')]\n",
      "[('beautiful', 'NN')]\n",
      "[('Monument', 'NN')]\n"
     ]
    }
   ],
   "source": [
    "sentence = \"Taj Mahal is a beautiful Monument\"\n",
    "\n",
    "for i in sentence.split(\" \"):\n",
    "    print(nltk.pos_tag([i]))   "
   ]
  },
  {
   "cell_type": "code",
   "execution_count": 71,
   "metadata": {},
   "outputs": [
    {
     "name": "stdout",
     "output_type": "stream",
     "text": [
      "[('Taj', 'NNP'), ('Mahal', 'NNP'), ('is', 'VBZ'), ('a', 'DT'), ('beautiful', 'JJ'), ('Monument', 'NN')]\n"
     ]
    }
   ],
   "source": [
    "print(nltk.pos_tag(sentence.split(' ')))"
   ]
  }
 ],
 "metadata": {
  "kernelspec": {
   "display_name": "1_NLP",
   "language": "python",
   "name": "python3"
  },
  "language_info": {
   "codemirror_mode": {
    "name": "ipython",
    "version": 3
   },
   "file_extension": ".py",
   "mimetype": "text/x-python",
   "name": "python",
   "nbconvert_exporter": "python",
   "pygments_lexer": "ipython3",
   "version": "3.12.7"
  }
 },
 "nbformat": 4,
 "nbformat_minor": 2
}
