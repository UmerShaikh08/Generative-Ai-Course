{
 "cells": [
  {
   "cell_type": "markdown",
   "metadata": {},
   "source": [
    "**Preferable  to use in chatbot and Q&A**"
   ]
  },
  {
   "cell_type": "code",
   "execution_count": 1,
   "metadata": {},
   "outputs": [],
   "source": [
    "from nltk.stem import WordNetLemmatizer\n",
    "\n",
    "words = [\"eating\" , \"eat\" , \"eaten\" , \"go\" , \"gone\" , \"write\" , \"writes\" , \"program\" , \"programs\" , \"history\" ]"
   ]
  },
  {
   "cell_type": "code",
   "execution_count": 5,
   "metadata": {},
   "outputs": [
    {
     "name": "stderr",
     "output_type": "stream",
     "text": [
      "[nltk_data] Downloading package wordnet to\n",
      "[nltk_data]     C:\\Users\\Umers\\AppData\\Roaming\\nltk_data...\n"
     ]
    },
    {
     "data": {
      "text/plain": [
       "True"
      ]
     },
     "execution_count": 5,
     "metadata": {},
     "output_type": "execute_result"
    }
   ],
   "source": [
    "import nltk\n",
    "nltk.download('wordnet')\n"
   ]
  },
  {
   "cell_type": "code",
   "execution_count": 2,
   "metadata": {},
   "outputs": [],
   "source": [
    "lemmatizer = WordNetLemmatizer()"
   ]
  },
  {
   "cell_type": "code",
   "execution_count": 7,
   "metadata": {},
   "outputs": [
    {
     "name": "stdout",
     "output_type": "stream",
     "text": [
      "eating -> eating\n",
      "eat -> eat\n",
      "eaten -> eaten\n",
      "go -> go\n",
      "gone -> gone\n",
      "write -> write\n",
      "writes -> writes\n",
      "program -> program\n",
      "programs -> program\n",
      "history -> history\n"
     ]
    }
   ],
   "source": [
    "\n",
    "# convert to noun\n",
    "for word in words:\n",
    "    print(f\"{word} -> {lemmatizer.lemmatize(word , pos=\"n\")}\")"
   ]
  },
  {
   "cell_type": "code",
   "execution_count": 9,
   "metadata": {},
   "outputs": [
    {
     "name": "stdout",
     "output_type": "stream",
     "text": [
      "eating -> eat\n",
      "eat -> eat\n",
      "eaten -> eat\n",
      "go -> go\n",
      "gone -> go\n",
      "write -> write\n",
      "writes -> write\n",
      "program -> program\n",
      "programs -> program\n",
      "history -> history\n"
     ]
    }
   ],
   "source": [
    "# convert to verb\n",
    "for word in words:\n",
    "    print(f\"{word} -> {lemmatizer.lemmatize(word , pos=\"v\")}\")"
   ]
  },
  {
   "cell_type": "code",
   "execution_count": null,
   "metadata": {},
   "outputs": [],
   "source": [
    "# convert to noun\n",
    "for word in words:\n",
    "    print(f\"{word} -> {lemmatizer.lemmatize(word , pos=\"n\")}\")"
   ]
  },
  {
   "cell_type": "code",
   "execution_count": null,
   "metadata": {},
   "outputs": [],
   "source": [
    "# convert to noun\n",
    "for word in words:\n",
    "    print(f\"{word} -> {lemmatizer.lemmatize(word , pos=\"n\")}\")"
   ]
  }
 ],
 "metadata": {
  "kernelspec": {
   "display_name": "1_NLP",
   "language": "python",
   "name": "python3"
  },
  "language_info": {
   "codemirror_mode": {
    "name": "ipython",
    "version": 3
   },
   "file_extension": ".py",
   "mimetype": "text/x-python",
   "name": "python",
   "nbconvert_exporter": "python",
   "pygments_lexer": "ipython3",
   "version": "3.12.7"
  }
 },
 "nbformat": 4,
 "nbformat_minor": 2
}
