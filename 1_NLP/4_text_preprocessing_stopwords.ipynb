{
 "cells": [
  {
   "cell_type": "code",
   "execution_count": 3,
   "metadata": {},
   "outputs": [],
   "source": [
    "from nltk.stem import PorterStemmer\n",
    "from nltk.corpus import stopwords"
   ]
  },
  {
   "cell_type": "code",
   "execution_count": 5,
   "metadata": {},
   "outputs": [
    {
     "name": "stderr",
     "output_type": "stream",
     "text": [
      "[nltk_data] Downloading package stopwords to\n",
      "[nltk_data]     C:\\Users\\Umers\\AppData\\Roaming\\nltk_data...\n",
      "[nltk_data]   Unzipping corpora\\stopwords.zip.\n"
     ]
    },
    {
     "data": {
      "text/plain": [
       "True"
      ]
     },
     "execution_count": 5,
     "metadata": {},
     "output_type": "execute_result"
    }
   ],
   "source": [
    "import nltk\n",
    "nltk.download('stopwords')"
   ]
  },
  {
   "cell_type": "code",
   "execution_count": 60,
   "metadata": {},
   "outputs": [],
   "source": [
    "speech = \"\"\"Dr. Avul Pakir Jainulabdeen Abdul Kalam was a man of dreams and action. Born into a humble family in Rameswaram on October 15, 1931, he faced many struggles but never let them stop him. With hard work and determination, he became an aerospace scientist, a leader, and eventually, the 11th President of India.\n",
    "\n",
    "His contributions to India's defense and space programs were remarkable. He played a crucial role in developing India's Agni and Prithvi missiles, making the nation self-reliant in defense technology. He also contributed to ISRO’s Satellite Launch Vehicle (SLV), which placed India on the global space map.\n",
    "\n",
    "But Dr. Kalam was not just a scientist—he was a teacher at heart. He believed that youth are the future of a developed India and spent his life inspiring them. His words, \"Dream, dream, dream. Dreams transform into thoughts, and thoughts result in action,\" continue to motivate millions.\n",
    "\n",
    "Even as President (2002-2007), he remained humble and dedicated to the nation's progress. He envisioned \"India 2020\", a roadmap for transforming India into a developed country. He believed in education, innovation, and hard work as the keys to success.\"\"\""
   ]
  },
  {
   "cell_type": "code",
   "execution_count": 61,
   "metadata": {},
   "outputs": [
    {
     "data": {
      "text/plain": [
       "['i',\n",
       " 'me',\n",
       " 'my',\n",
       " 'myself',\n",
       " 'we',\n",
       " 'our',\n",
       " 'ours',\n",
       " 'ourselves',\n",
       " 'you',\n",
       " \"you're\",\n",
       " \"you've\",\n",
       " \"you'll\",\n",
       " \"you'd\",\n",
       " 'your',\n",
       " 'yours',\n",
       " 'yourself',\n",
       " 'yourselves',\n",
       " 'he',\n",
       " 'him',\n",
       " 'his',\n",
       " 'himself',\n",
       " 'she',\n",
       " \"she's\",\n",
       " 'her',\n",
       " 'hers',\n",
       " 'herself',\n",
       " 'it',\n",
       " \"it's\",\n",
       " 'its',\n",
       " 'itself',\n",
       " 'they',\n",
       " 'them',\n",
       " 'their',\n",
       " 'theirs',\n",
       " 'themselves',\n",
       " 'what',\n",
       " 'which',\n",
       " 'who',\n",
       " 'whom',\n",
       " 'this',\n",
       " 'that',\n",
       " \"that'll\",\n",
       " 'these',\n",
       " 'those',\n",
       " 'am',\n",
       " 'is',\n",
       " 'are',\n",
       " 'was',\n",
       " 'were',\n",
       " 'be',\n",
       " 'been',\n",
       " 'being',\n",
       " 'have',\n",
       " 'has',\n",
       " 'had',\n",
       " 'having',\n",
       " 'do',\n",
       " 'does',\n",
       " 'did',\n",
       " 'doing',\n",
       " 'a',\n",
       " 'an',\n",
       " 'the',\n",
       " 'and',\n",
       " 'but',\n",
       " 'if',\n",
       " 'or',\n",
       " 'because',\n",
       " 'as',\n",
       " 'until',\n",
       " 'while',\n",
       " 'of',\n",
       " 'at',\n",
       " 'by',\n",
       " 'for',\n",
       " 'with',\n",
       " 'about',\n",
       " 'against',\n",
       " 'between',\n",
       " 'into',\n",
       " 'through',\n",
       " 'during',\n",
       " 'before',\n",
       " 'after',\n",
       " 'above',\n",
       " 'below',\n",
       " 'to',\n",
       " 'from',\n",
       " 'up',\n",
       " 'down',\n",
       " 'in',\n",
       " 'out',\n",
       " 'on',\n",
       " 'off',\n",
       " 'over',\n",
       " 'under',\n",
       " 'again',\n",
       " 'further',\n",
       " 'then',\n",
       " 'once',\n",
       " 'here',\n",
       " 'there',\n",
       " 'when',\n",
       " 'where',\n",
       " 'why',\n",
       " 'how',\n",
       " 'all',\n",
       " 'any',\n",
       " 'both',\n",
       " 'each',\n",
       " 'few',\n",
       " 'more',\n",
       " 'most',\n",
       " 'other',\n",
       " 'some',\n",
       " 'such',\n",
       " 'no',\n",
       " 'nor',\n",
       " 'not',\n",
       " 'only',\n",
       " 'own',\n",
       " 'same',\n",
       " 'so',\n",
       " 'than',\n",
       " 'too',\n",
       " 'very',\n",
       " 's',\n",
       " 't',\n",
       " 'can',\n",
       " 'will',\n",
       " 'just',\n",
       " 'don',\n",
       " \"don't\",\n",
       " 'should',\n",
       " \"should've\",\n",
       " 'now',\n",
       " 'd',\n",
       " 'll',\n",
       " 'm',\n",
       " 'o',\n",
       " 're',\n",
       " 've',\n",
       " 'y',\n",
       " 'ain',\n",
       " 'aren',\n",
       " \"aren't\",\n",
       " 'couldn',\n",
       " \"couldn't\",\n",
       " 'didn',\n",
       " \"didn't\",\n",
       " 'doesn',\n",
       " \"doesn't\",\n",
       " 'hadn',\n",
       " \"hadn't\",\n",
       " 'hasn',\n",
       " \"hasn't\",\n",
       " 'haven',\n",
       " \"haven't\",\n",
       " 'isn',\n",
       " \"isn't\",\n",
       " 'ma',\n",
       " 'mightn',\n",
       " \"mightn't\",\n",
       " 'mustn',\n",
       " \"mustn't\",\n",
       " 'needn',\n",
       " \"needn't\",\n",
       " 'shan',\n",
       " \"shan't\",\n",
       " 'shouldn',\n",
       " \"shouldn't\",\n",
       " 'wasn',\n",
       " \"wasn't\",\n",
       " 'weren',\n",
       " \"weren't\",\n",
       " 'won',\n",
       " \"won't\",\n",
       " 'wouldn',\n",
       " \"wouldn't\"]"
      ]
     },
     "execution_count": 61,
     "metadata": {},
     "output_type": "execute_result"
    }
   ],
   "source": [
    "# stop words list \n",
    "stopwords.words(\"english\")"
   ]
  },
  {
   "cell_type": "code",
   "execution_count": 62,
   "metadata": {},
   "outputs": [
    {
     "data": {
      "text/plain": [
       "['Dr. Avul Pakir Jainulabdeen Abdul Kalam was a man of dreams and action.',\n",
       " 'Born into a humble family in Rameswaram on October 15, 1931, he faced many struggles but never let them stop him.',\n",
       " 'With hard work and determination, he became an aerospace scientist, a leader, and eventually, the 11th President of India.',\n",
       " \"His contributions to India's defense and space programs were remarkable.\",\n",
       " \"He played a crucial role in developing India's Agni and Prithvi missiles, making the nation self-reliant in defense technology.\",\n",
       " 'He also contributed to ISRO’s Satellite Launch Vehicle (SLV), which placed India on the global space map.',\n",
       " 'But Dr. Kalam was not just a scientist—he was a teacher at heart.',\n",
       " 'He believed that youth are the future of a developed India and spent his life inspiring them.',\n",
       " 'His words, \"Dream, dream, dream.',\n",
       " 'Dreams transform into thoughts, and thoughts result in action,\" continue to motivate millions.',\n",
       " \"Even as President (2002-2007), he remained humble and dedicated to the nation's progress.\",\n",
       " 'He envisioned \"India 2020\", a roadmap for transforming India into a developed country.',\n",
       " 'He believed in education, innovation, and hard work as the keys to success.']"
      ]
     },
     "execution_count": 62,
     "metadata": {},
     "output_type": "execute_result"
    }
   ],
   "source": [
    "\n",
    "# devide in sentence\n",
    "sentences = nltk.sent_tokenize(speech)\n",
    "sentences"
   ]
  },
  {
   "cell_type": "code",
   "execution_count": 12,
   "metadata": {},
   "outputs": [],
   "source": [
    "stemmer = PorterStemmer()"
   ]
  },
  {
   "cell_type": "code",
   "execution_count": null,
   "metadata": {},
   "outputs": [],
   "source": [
    "#  devide in words\n",
    "#  check word present in stopword \n",
    "#  if not add it \n",
    "#  otherwise  remove it\n",
    "#  join with space\n",
    "\n",
    "stop_words = set(stopwords.words(\"english\"))\n",
    "\n",
    "\n",
    "for i in range(len(sentences)):\n",
    "    words = nltk.word_tokenize(sentences[i])  # Tokenizing words\n",
    "    words = [stemmer.stem(word) for word in words if word.lower() not in stop_words]  \n",
    "    sentences[i] = ' '.join(words)  # Joining back into a sentence\n",
    "    print(sentences)"
   ]
  },
  {
   "cell_type": "code",
   "execution_count": null,
   "metadata": {},
   "outputs": [],
   "source": [
    "sentences"
   ]
  },
  {
   "cell_type": "code",
   "execution_count": 69,
   "metadata": {},
   "outputs": [],
   "source": [
    "from nltk.stem import WordNetLemmatizer\n"
   ]
  },
  {
   "cell_type": "code",
   "execution_count": 78,
   "metadata": {},
   "outputs": [],
   "source": [
    "lemmatizer = WordNetLemmatizer()"
   ]
  },
  {
   "cell_type": "code",
   "execution_count": 82,
   "metadata": {},
   "outputs": [
    {
     "name": "stdout",
     "output_type": "stream",
     "text": [
      "['dr. avul pakir jainulabdeen abdul kalam man dream action .', 'born humbl famili rameswaram octob 15 , 1931 , face mani struggl never let stop .', 'hard work determin , becam aerospac scientist , leader , eventu , 11th presid india .', \"contribut india 's defens space program remark .\", \"play crucial role develop india 's agni prithvi missil , make nation self-reli defens technolog .\", 'also contribut isro ’ satellit launch vehicl ( slv ) , place india global space map .', 'dr. kalam scientist—h teacher heart .', 'believ youth futur develop india spent life inspir .', 'word , `` dream , dream , dream .', 'dream transform thought , thought result action , `` continu motiv million .', \"even presid ( 2002-2007 ) , remain humbl dedic nation 's progress .\", 'envis `` india 2020 `` , roadmap transform india develop countri .', 'believ educ , innov , hard work key success .']\n"
     ]
    }
   ],
   "source": [
    "for i in range(len(sentences)):\n",
    "    words = nltk.word_tokenize(sentences[i])  # Tokenizing words\n",
    "    words = [lemmatizer.lemmatize(word , pos=\"n\") for word in words if word not in stop_words]  \n",
    "    sentences[i] = ' '.join(words)  # Joining back into a sentence\n",
    "    \n",
    "print(sentences)"
   ]
  }
 ],
 "metadata": {
  "kernelspec": {
   "display_name": "1_NLP",
   "language": "python",
   "name": "python3"
  },
  "language_info": {
   "codemirror_mode": {
    "name": "ipython",
    "version": 3
   },
   "file_extension": ".py",
   "mimetype": "text/x-python",
   "name": "python",
   "nbconvert_exporter": "python",
   "pygments_lexer": "ipython3",
   "version": "3.12.7"
  }
 },
 "nbformat": 4,
 "nbformat_minor": 2
}
